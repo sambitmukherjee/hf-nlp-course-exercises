{
  "cells": [
    {
      "cell_type": "markdown",
      "source": [
        "✏️ **Your turn!** Print the same two sentences with their POS or chunking labels.\n",
        "\n",
        "(This exercise is from https://huggingface.co/learn/nlp-course/chapter7/2?fw=pt)"
      ],
      "metadata": {
        "id": "K5YrBPy_DvNy"
      },
      "id": "K5YrBPy_DvNy"
    },
    {
      "cell_type": "code",
      "source": [
        "!pip install -q datasets transformers[sentencepiece]"
      ],
      "metadata": {
        "id": "InO0tjI3FODo"
      },
      "id": "InO0tjI3FODo",
      "execution_count": 1,
      "outputs": []
    },
    {
      "cell_type": "markdown",
      "source": [
        "If running this notebook in Colab, please ensure that your Hugging Face `HF_TOKEN` is added to your Colab secrets.\n",
        "\n",
        "Alternatively, please login to Hugging Face by running the following cell."
      ],
      "metadata": {
        "id": "XCB-ts-xFuEM"
      },
      "id": "XCB-ts-xFuEM"
    },
    {
      "cell_type": "code",
      "source": [
        "# !huggingface-cli login"
      ],
      "metadata": {
        "id": "7G3AA1uSF10C"
      },
      "id": "7G3AA1uSF10C",
      "execution_count": 2,
      "outputs": []
    },
    {
      "cell_type": "code",
      "source": [
        "from datasets import load_dataset\n",
        "\n",
        "raw_datasets = load_dataset(\"conll2003\")\n",
        "raw_datasets"
      ],
      "metadata": {
        "colab": {
          "base_uri": "https://localhost:8080/"
        },
        "id": "PDPk7juaFanT",
        "outputId": "4e66bb8b-1a3c-41bf-8a5a-9421f845641d"
      },
      "id": "PDPk7juaFanT",
      "execution_count": 3,
      "outputs": [
        {
          "output_type": "execute_result",
          "data": {
            "text/plain": [
              "DatasetDict({\n",
              "    train: Dataset({\n",
              "        features: ['id', 'tokens', 'pos_tags', 'chunk_tags', 'ner_tags'],\n",
              "        num_rows: 14041\n",
              "    })\n",
              "    validation: Dataset({\n",
              "        features: ['id', 'tokens', 'pos_tags', 'chunk_tags', 'ner_tags'],\n",
              "        num_rows: 3250\n",
              "    })\n",
              "    test: Dataset({\n",
              "        features: ['id', 'tokens', 'pos_tags', 'chunk_tags', 'ner_tags'],\n",
              "        num_rows: 3453\n",
              "    })\n",
              "})"
            ]
          },
          "metadata": {},
          "execution_count": 3
        }
      ]
    },
    {
      "cell_type": "code",
      "source": [
        "example0 = raw_datasets['train'][0]\n",
        "for k, v in example0.items():\n",
        "    print(f\"{k}: {v}\")"
      ],
      "metadata": {
        "colab": {
          "base_uri": "https://localhost:8080/"
        },
        "id": "27a-4vwEFudk",
        "outputId": "c285d91f-91ec-44a4-b5e8-031d9e911e0e"
      },
      "id": "27a-4vwEFudk",
      "execution_count": 4,
      "outputs": [
        {
          "output_type": "stream",
          "name": "stdout",
          "text": [
            "id: 0\n",
            "tokens: ['EU', 'rejects', 'German', 'call', 'to', 'boycott', 'British', 'lamb', '.']\n",
            "pos_tags: [22, 42, 16, 21, 35, 37, 16, 21, 7]\n",
            "chunk_tags: [11, 21, 11, 12, 21, 22, 11, 12, 0]\n",
            "ner_tags: [3, 0, 7, 0, 0, 0, 7, 0, 0]\n"
          ]
        }
      ]
    },
    {
      "cell_type": "code",
      "source": [
        "example4 = raw_datasets['train'][4]\n",
        "for k, v in example4.items():\n",
        "    print(f\"{k}: {v}\")"
      ],
      "metadata": {
        "colab": {
          "base_uri": "https://localhost:8080/"
        },
        "id": "1tlEaY8eF5S-",
        "outputId": "68a8e363-27a6-47e4-9e86-13eefb242a6d"
      },
      "id": "1tlEaY8eF5S-",
      "execution_count": 5,
      "outputs": [
        {
          "output_type": "stream",
          "name": "stdout",
          "text": [
            "id: 4\n",
            "tokens: ['Germany', \"'s\", 'representative', 'to', 'the', 'European', 'Union', \"'s\", 'veterinary', 'committee', 'Werner', 'Zwingmann', 'said', 'on', 'Wednesday', 'consumers', 'should', 'buy', 'sheepmeat', 'from', 'countries', 'other', 'than', 'Britain', 'until', 'the', 'scientific', 'advice', 'was', 'clearer', '.']\n",
            "pos_tags: [22, 27, 21, 35, 12, 22, 22, 27, 16, 21, 22, 22, 38, 15, 22, 24, 20, 37, 21, 15, 24, 16, 15, 22, 15, 12, 16, 21, 38, 17, 7]\n",
            "chunk_tags: [11, 11, 12, 13, 11, 12, 12, 11, 12, 12, 12, 12, 21, 13, 11, 12, 21, 22, 11, 13, 11, 1, 13, 11, 17, 11, 12, 12, 21, 1, 0]\n",
            "ner_tags: [5, 0, 0, 0, 0, 3, 4, 0, 0, 0, 1, 2, 0, 0, 0, 0, 0, 0, 0, 0, 0, 0, 0, 5, 0, 0, 0, 0, 0, 0, 0]\n"
          ]
        }
      ]
    },
    {
      "cell_type": "code",
      "source": [
        "features = raw_datasets['train'].features\n",
        "features"
      ],
      "metadata": {
        "colab": {
          "base_uri": "https://localhost:8080/"
        },
        "id": "bM6nYKRdGCMX",
        "outputId": "6bf4036f-23b6-43bc-db9b-ecdb0f7196ed"
      },
      "id": "bM6nYKRdGCMX",
      "execution_count": 6,
      "outputs": [
        {
          "output_type": "execute_result",
          "data": {
            "text/plain": [
              "{'id': Value(dtype='string', id=None),\n",
              " 'tokens': Sequence(feature=Value(dtype='string', id=None), length=-1, id=None),\n",
              " 'pos_tags': Sequence(feature=ClassLabel(names=['\"', \"''\", '#', '$', '(', ')', ',', '.', ':', '``', 'CC', 'CD', 'DT', 'EX', 'FW', 'IN', 'JJ', 'JJR', 'JJS', 'LS', 'MD', 'NN', 'NNP', 'NNPS', 'NNS', 'NN|SYM', 'PDT', 'POS', 'PRP', 'PRP$', 'RB', 'RBR', 'RBS', 'RP', 'SYM', 'TO', 'UH', 'VB', 'VBD', 'VBG', 'VBN', 'VBP', 'VBZ', 'WDT', 'WP', 'WP$', 'WRB'], id=None), length=-1, id=None),\n",
              " 'chunk_tags': Sequence(feature=ClassLabel(names=['O', 'B-ADJP', 'I-ADJP', 'B-ADVP', 'I-ADVP', 'B-CONJP', 'I-CONJP', 'B-INTJ', 'I-INTJ', 'B-LST', 'I-LST', 'B-NP', 'I-NP', 'B-PP', 'I-PP', 'B-PRT', 'I-PRT', 'B-SBAR', 'I-SBAR', 'B-UCP', 'I-UCP', 'B-VP', 'I-VP'], id=None), length=-1, id=None),\n",
              " 'ner_tags': Sequence(feature=ClassLabel(names=['O', 'B-PER', 'I-PER', 'B-ORG', 'I-ORG', 'B-LOC', 'I-LOC', 'B-MISC', 'I-MISC'], id=None), length=-1, id=None)}"
            ]
          },
          "metadata": {},
          "execution_count": 6
        }
      ]
    },
    {
      "cell_type": "code",
      "source": [
        "chunk_feature = features['chunk_tags']\n",
        "chunk_feature"
      ],
      "metadata": {
        "colab": {
          "base_uri": "https://localhost:8080/"
        },
        "id": "plwdFz8IGHNu",
        "outputId": "3eaf347c-22dc-4044-8d5d-b9e8e840128d"
      },
      "id": "plwdFz8IGHNu",
      "execution_count": 7,
      "outputs": [
        {
          "output_type": "execute_result",
          "data": {
            "text/plain": [
              "Sequence(feature=ClassLabel(names=['O', 'B-ADJP', 'I-ADJP', 'B-ADVP', 'I-ADVP', 'B-CONJP', 'I-CONJP', 'B-INTJ', 'I-INTJ', 'B-LST', 'I-LST', 'B-NP', 'I-NP', 'B-PP', 'I-PP', 'B-PRT', 'I-PRT', 'B-SBAR', 'I-SBAR', 'B-UCP', 'I-UCP', 'B-VP', 'I-VP'], id=None), length=-1, id=None)"
            ]
          },
          "metadata": {},
          "execution_count": 7
        }
      ]
    },
    {
      "cell_type": "code",
      "source": [
        "label_names = chunk_feature.feature.names\n",
        "label_names"
      ],
      "metadata": {
        "colab": {
          "base_uri": "https://localhost:8080/"
        },
        "id": "w2tFOuOVGL13",
        "outputId": "fefdf64a-87a9-478c-e4c2-4b3ee401941b"
      },
      "id": "w2tFOuOVGL13",
      "execution_count": 8,
      "outputs": [
        {
          "output_type": "execute_result",
          "data": {
            "text/plain": [
              "['O',\n",
              " 'B-ADJP',\n",
              " 'I-ADJP',\n",
              " 'B-ADVP',\n",
              " 'I-ADVP',\n",
              " 'B-CONJP',\n",
              " 'I-CONJP',\n",
              " 'B-INTJ',\n",
              " 'I-INTJ',\n",
              " 'B-LST',\n",
              " 'I-LST',\n",
              " 'B-NP',\n",
              " 'I-NP',\n",
              " 'B-PP',\n",
              " 'I-PP',\n",
              " 'B-PRT',\n",
              " 'I-PRT',\n",
              " 'B-SBAR',\n",
              " 'I-SBAR',\n",
              " 'B-UCP',\n",
              " 'I-UCP',\n",
              " 'B-VP',\n",
              " 'I-VP']"
            ]
          },
          "metadata": {},
          "execution_count": 8
        }
      ]
    },
    {
      "cell_type": "markdown",
      "source": [
        "`'B-ADJP'` stands for \"beginning of adjective phrase\", `'I-ADJP'` stands for \"inside adjective phrase\", `'B-ADVP'` stands for \"beginning of adverb phrase\", `'I-ADVP'` stands for \"inside adverb phrase\", and so on..."
      ],
      "metadata": {
        "id": "aJ6D20QeIJp5"
      },
      "id": "aJ6D20QeIJp5"
    },
    {
      "cell_type": "code",
      "source": [
        "len(label_names)"
      ],
      "metadata": {
        "colab": {
          "base_uri": "https://localhost:8080/"
        },
        "id": "zX8H7zW0GXBu",
        "outputId": "d5b7bc46-4d74-42d0-9b0e-453883d848c7"
      },
      "id": "zX8H7zW0GXBu",
      "execution_count": 9,
      "outputs": [
        {
          "output_type": "execute_result",
          "data": {
            "text/plain": [
              "23"
            ]
          },
          "metadata": {},
          "execution_count": 9
        }
      ]
    },
    {
      "cell_type": "code",
      "source": [
        "words = example0['tokens']\n",
        "labels = example0['chunk_tags']\n",
        "line1 = \"\"\n",
        "line2 = \"\"\n",
        "for word, label in zip(words, labels):\n",
        "    full_label = label_names[label]\n",
        "    max_length = max(len(word), len(full_label))\n",
        "    line1 += word + \" \" * (max_length - len(word) + 1)\n",
        "    line2 += full_label + \" \" * (max_length - len(full_label) + 1)\n",
        "print(line1)\n",
        "print(line2)"
      ],
      "metadata": {
        "colab": {
          "base_uri": "https://localhost:8080/"
        },
        "id": "oOIt_-OKGZOu",
        "outputId": "fafdcbe3-829f-4dbb-b778-3ed1661a1081"
      },
      "id": "oOIt_-OKGZOu",
      "execution_count": 10,
      "outputs": [
        {
          "output_type": "stream",
          "name": "stdout",
          "text": [
            "EU   rejects German call to   boycott British lamb . \n",
            "B-NP B-VP    B-NP   I-NP B-VP I-VP    B-NP    I-NP O \n"
          ]
        }
      ]
    },
    {
      "cell_type": "code",
      "source": [
        "words = example4['tokens']\n",
        "labels = example4['chunk_tags']\n",
        "line1 = \"\"\n",
        "line2 = \"\"\n",
        "for word, label in zip(words, labels):\n",
        "    full_label = label_names[label]\n",
        "    max_length = max(len(word), len(full_label))\n",
        "    line1 += word + \" \" * (max_length - len(word) + 1)\n",
        "    line2 += full_label + \" \" * (max_length - len(full_label) + 1)\n",
        "print(line1)\n",
        "print(line2)"
      ],
      "metadata": {
        "colab": {
          "base_uri": "https://localhost:8080/"
        },
        "id": "9TXL-i2_G_KK",
        "outputId": "5bc7aa52-20fc-45ca-8060-75199b98a8ff"
      },
      "id": "9TXL-i2_G_KK",
      "execution_count": 11,
      "outputs": [
        {
          "output_type": "stream",
          "name": "stdout",
          "text": [
            "Germany 's   representative to   the  European Union 's   veterinary committee Werner Zwingmann said on   Wednesday consumers should buy  sheepmeat from countries other  than Britain until  the  scientific advice was  clearer . \n",
            "B-NP    B-NP I-NP           B-PP B-NP I-NP     I-NP  B-NP I-NP       I-NP      I-NP   I-NP      B-VP B-PP B-NP      I-NP      B-VP   I-VP B-NP      B-PP B-NP      B-ADJP B-PP B-NP    B-SBAR B-NP I-NP       I-NP   B-VP B-ADJP  O \n"
          ]
        }
      ]
    },
    {
      "cell_type": "markdown",
      "source": [
        "✏️ **Your turn!** Some researchers prefer to attribute only one label per word, and assign `-100` to the other subtokens in a given word. This is to avoid long words that split into lots of subtokens contributing heavily to the loss. Change the previous function to align labels with input IDs by following this rule.\n",
        "\n",
        "(This exercise is also from https://huggingface.co/learn/nlp-course/chapter7/2?fw=pt)"
      ],
      "metadata": {
        "id": "-eSzhiPcEXm5"
      },
      "id": "-eSzhiPcEXm5"
    },
    {
      "cell_type": "code",
      "source": [
        "from transformers import AutoTokenizer\n",
        "\n",
        "tokenizer = AutoTokenizer.from_pretrained(\"bert-base-cased\")\n",
        "tokenizer.is_fast, tokenizer.model_max_length"
      ],
      "metadata": {
        "colab": {
          "base_uri": "https://localhost:8080/"
        },
        "id": "hZFi3uMIHygp",
        "outputId": "60eb635e-db2a-476e-b334-4147bac871ae"
      },
      "id": "hZFi3uMIHygp",
      "execution_count": 12,
      "outputs": [
        {
          "output_type": "execute_result",
          "data": {
            "text/plain": [
              "(True, 512)"
            ]
          },
          "metadata": {},
          "execution_count": 12
        }
      ]
    },
    {
      "cell_type": "code",
      "source": [
        "raw_datasets = raw_datasets.remove_columns(['id', 'pos_tags', 'chunk_tags'])\n",
        "raw_datasets = raw_datasets.rename_column('tokens', 'words')\n",
        "raw_datasets = raw_datasets.rename_column('ner_tags', 'labels')\n",
        "raw_datasets"
      ],
      "metadata": {
        "colab": {
          "base_uri": "https://localhost:8080/"
        },
        "id": "ixgrDuoUIAJu",
        "outputId": "13b5e41d-ec93-432d-cfb6-569d22026961"
      },
      "id": "ixgrDuoUIAJu",
      "execution_count": 13,
      "outputs": [
        {
          "output_type": "execute_result",
          "data": {
            "text/plain": [
              "DatasetDict({\n",
              "    train: Dataset({\n",
              "        features: ['words', 'labels'],\n",
              "        num_rows: 14041\n",
              "    })\n",
              "    validation: Dataset({\n",
              "        features: ['words', 'labels'],\n",
              "        num_rows: 3250\n",
              "    })\n",
              "    test: Dataset({\n",
              "        features: ['words', 'labels'],\n",
              "        num_rows: 3453\n",
              "    })\n",
              "})"
            ]
          },
          "metadata": {},
          "execution_count": 13
        }
      ]
    },
    {
      "cell_type": "code",
      "source": [
        "examples = raw_datasets['train'][:2]\n",
        "for k, v in examples.items():\n",
        "    print(f\"{k}: {v}\")"
      ],
      "metadata": {
        "colab": {
          "base_uri": "https://localhost:8080/"
        },
        "id": "AsKgrzCUIRt3",
        "outputId": "375b0b4b-889d-42bb-b752-7798da2ad6c3"
      },
      "id": "AsKgrzCUIRt3",
      "execution_count": 14,
      "outputs": [
        {
          "output_type": "stream",
          "name": "stdout",
          "text": [
            "words: [['EU', 'rejects', 'German', 'call', 'to', 'boycott', 'British', 'lamb', '.'], ['Peter', 'Blackburn']]\n",
            "labels: [[3, 0, 7, 0, 0, 0, 7, 0, 0], [1, 2]]\n"
          ]
        }
      ]
    },
    {
      "cell_type": "code",
      "source": [
        "encoding = tokenizer(examples['words'], is_split_into_words=True, truncation=True, max_length=512)\n",
        "encoding"
      ],
      "metadata": {
        "colab": {
          "base_uri": "https://localhost:8080/"
        },
        "id": "gGz-tjewIZSr",
        "outputId": "af400683-4d41-4c2b-9394-c628e0506ad2"
      },
      "id": "gGz-tjewIZSr",
      "execution_count": 15,
      "outputs": [
        {
          "output_type": "execute_result",
          "data": {
            "text/plain": [
              "{'input_ids': [[101, 7270, 22961, 1528, 1840, 1106, 21423, 1418, 2495, 12913, 119, 102], [101, 1943, 14428, 102]], 'token_type_ids': [[0, 0, 0, 0, 0, 0, 0, 0, 0, 0, 0, 0], [0, 0, 0, 0]], 'attention_mask': [[1, 1, 1, 1, 1, 1, 1, 1, 1, 1, 1, 1], [1, 1, 1, 1]]}"
            ]
          },
          "metadata": {},
          "execution_count": 15
        }
      ]
    },
    {
      "cell_type": "code",
      "source": [
        "len(examples['words'][0]), len(encoding['input_ids'][0])"
      ],
      "metadata": {
        "colab": {
          "base_uri": "https://localhost:8080/"
        },
        "id": "46FgHmVdIilO",
        "outputId": "bae2b3eb-d5de-45f9-ab02-824ec5fb40ae"
      },
      "id": "46FgHmVdIilO",
      "execution_count": 16,
      "outputs": [
        {
          "output_type": "execute_result",
          "data": {
            "text/plain": [
              "(9, 12)"
            ]
          },
          "metadata": {},
          "execution_count": 16
        }
      ]
    },
    {
      "cell_type": "code",
      "source": [
        "def align_labels_with_tokens(labels, word_ids):\n",
        "    new_labels = []\n",
        "    current_word_id = None\n",
        "    for word_id in word_ids:\n",
        "        # This loop goes over each word ID within an example.\n",
        "        if word_id is None:\n",
        "            # Special token...\n",
        "            new_labels.append(-100)\n",
        "        else:\n",
        "            if word_id != current_word_id:\n",
        "                # Start of a new word...\n",
        "                label = labels[word_id]\n",
        "                new_labels.append(label)\n",
        "            else:\n",
        "                # Continuation of the same word...\n",
        "                new_labels.append(-100)\n",
        "        current_word_id = word_id\n",
        "    return new_labels"
      ],
      "metadata": {
        "id": "AStvnzTnXf6C"
      },
      "id": "AStvnzTnXf6C",
      "execution_count": 17,
      "outputs": []
    },
    {
      "cell_type": "code",
      "source": [
        "print(examples['words'][0])\n",
        "print(examples['labels'][0])"
      ],
      "metadata": {
        "colab": {
          "base_uri": "https://localhost:8080/"
        },
        "id": "iVNAaDV7JTUX",
        "outputId": "0a1a0d8d-4f7e-42b4-9150-fad3670a95e8"
      },
      "id": "iVNAaDV7JTUX",
      "execution_count": 18,
      "outputs": [
        {
          "output_type": "stream",
          "name": "stdout",
          "text": [
            "['EU', 'rejects', 'German', 'call', 'to', 'boycott', 'British', 'lamb', '.']\n",
            "[3, 0, 7, 0, 0, 0, 7, 0, 0]\n"
          ]
        }
      ]
    },
    {
      "cell_type": "code",
      "source": [
        "# Test:\n",
        "print(encoding.tokens(0))\n",
        "print(align_labels_with_tokens(examples['labels'][0], encoding.word_ids(0)))"
      ],
      "metadata": {
        "colab": {
          "base_uri": "https://localhost:8080/"
        },
        "id": "q-_eyWEaJZ_d",
        "outputId": "12e66f0e-96f5-49df-8f24-a59ccd122a4b"
      },
      "id": "q-_eyWEaJZ_d",
      "execution_count": 19,
      "outputs": [
        {
          "output_type": "stream",
          "name": "stdout",
          "text": [
            "['[CLS]', 'EU', 'rejects', 'German', 'call', 'to', 'boycott', 'British', 'la', '##mb', '.', '[SEP]']\n",
            "[-100, 3, 0, 7, 0, 0, 0, 7, 0, -100, 0, -100]\n"
          ]
        }
      ]
    },
    {
      "cell_type": "code",
      "source": [],
      "metadata": {
        "id": "NldpbsCTZtyw"
      },
      "id": "NldpbsCTZtyw",
      "execution_count": 19,
      "outputs": []
    }
  ],
  "metadata": {
    "kernelspec": {
      "display_name": "Python 3 (ipykernel)",
      "language": "python",
      "name": "python3"
    },
    "language_info": {
      "codemirror_mode": {
        "name": "ipython",
        "version": 3
      },
      "file_extension": ".py",
      "mimetype": "text/x-python",
      "name": "python",
      "nbconvert_exporter": "python",
      "pygments_lexer": "ipython3",
      "version": "3.11.5"
    },
    "colab": {
      "provenance": []
    }
  },
  "nbformat": 4,
  "nbformat_minor": 5
}